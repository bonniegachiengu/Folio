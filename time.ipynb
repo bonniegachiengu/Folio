{
 "cells": [
  {
   "cell_type": "code",
   "execution_count": null,
   "metadata": {},
   "outputs": [],
   "source": [
    "class Time: # Wallet | Use Time as a module\n",
    "    \"\"\"\n",
    "    User\n",
    "    - Present(User)\n",
    "    - Timestamp(User, Present)\n",
    "    - Event(User, Timestamp, Present)\n",
    "    - Log(User, Event, Timestamp, Present)\n",
    "    - Message(User, Log, Event, Timestamp, Present)\n",
    "    - Alert(User, Message, Log, Event, Timestamp, Present)\n",
    "    - Reminder(User, Alert, Message, Log, Event, Timestamp, Present)\n",
    "    \"\"\"\n",
    "    # def __init__(self):\n",
    "    #     ...\n",
    "\n",
    "    # def present():\n",
    "    #     ...\n",
    "    # ..."
   ]
  },
  {
   "cell_type": "code",
   "execution_count": null,
   "metadata": {},
   "outputs": [],
   "source": [
    "def main():\n",
    "    # print(is_prime(int(input(\"What's x? \"))))\n",
    "    print(primes_up_to(int(input(\"What's the limit? \"))))\n",
    "\n",
    "\n",
    "# Check if a Number is Prime\n",
    "def is_prime(n):\n",
    "    \"\"\"Returns True if n is a prime number, otherwise False.\"\"\"\n",
    "    if n < 2:\n",
    "        return False\n",
    "    if n in (2, 3):\n",
    "        return True\n",
    "    if n % 2 == 0 or n % 3 == 0:\n",
    "        return False\n",
    "    \n",
    "    i = 5\n",
    "    while i * i <= n:\n",
    "        if n % i == 0 or n % (i + 2) == 0:\n",
    "            return False\n",
    "        i += 6\n",
    "    return True\n",
    "\n",
    "\n",
    "# Generate Prime Numbers in a Range\n",
    "def primes_up_to(limit):\n",
    "    \"\"\"Returns a list of prime numbers up to the given limit.\"\"\"\n",
    "    return [n for n in range(2, limit + 1) if is_prime(n)]\n",
    "\n",
    "if __name__ == \"__main__\":\n",
    "    main()"
   ]
  },
  {
   "cell_type": "code",
   "execution_count": null,
   "metadata": {},
   "outputs": [
    {
     "name": "stdout",
     "output_type": "stream",
     "text": [
      "Private Key: 6f8542a058c1f243953e3200ecd9318282a6f4a205ba99669a63b3e3955dde11\n",
      "Public Key: d1cedcd42f61a161e2fe469427eb87763ae2deaf9576a4f2e9f31f32860a9331\n",
      "Blockchain Address: 1PH7pwMf7i9SgY6y3XGmqGqJN5JcDXmWp1\n"
     ]
    }
   ],
   "source": [
    "# Generate a Blockchain Address from an Ed25519 Public Key\n",
    "import nacl.signing\n",
    "import nacl.encoding\n",
    "import hashlib\n",
    "import base58\n",
    "\n",
    "def generate_ed25519_key_pair():\n",
    "    \"\"\"Generates an Ed25519 private-public key pair.\"\"\"\n",
    "    private_key = nacl.signing.SigningKey.generate()\n",
    "    public_key = private_key.verify_key\n",
    "\n",
    "    return (private_key.encode(encoder=nacl.encoding.HexEncoder).decode(),\n",
    "            public_key.encode(encoder=nacl.encoding.HexEncoder).decode())\n",
    "\n",
    "def generate_address(public_key_hex):\n",
    "    \"\"\"Creates a blockchain address directly from an Ed25519 public key.\"\"\"\n",
    "    public_key_bytes = bytes.fromhex(public_key_hex)\n",
    "\n",
    "    # Step 1: SHA-256 Hash\n",
    "    sha256_hash = hashlib.sha256(public_key_bytes).digest()\n",
    "\n",
    "    # Step 2: RIPEMD-160 Hash\n",
    "    ripemd160 = hashlib.new('ripemd160')\n",
    "    ripemd160.update(sha256_hash)\n",
    "    hashed_public_key = ripemd160.digest()\n",
    "\n",
    "    # Step 3: Add Version Byte (0x00 for standard blockchain address)\n",
    "    versioned_key = b'\\x00' + hashed_public_key\n",
    "\n",
    "    # Step 4: Compute Checksum (First 4 bytes of double SHA-256)\n",
    "    checksum = hashlib.sha256(hashlib.sha256(versioned_key).digest()).digest()[:4]\n",
    "\n",
    "    # Step 5: Encode in Base58\n",
    "    address = base58.b58encode(versioned_key + checksum).decode()\n",
    "\n",
    "    return address\n",
    "\n",
    "# Generate Ed25519 Key Pair\n",
    "private_key, public_key = generate_ed25519_key_pair()\n",
    "\n",
    "# Use the same public key to generate the address\n",
    "address = generate_address(public_key)\n",
    "\n",
    "print(\"Private Key:\", private_key)\n",
    "print(\"Public Key:\", public_key)\n",
    "print(\"Blockchain Address:\", address)\n"
   ]
  },
  {
   "cell_type": "code",
   "execution_count": 13,
   "metadata": {},
   "outputs": [
    {
     "name": "stdout",
     "output_type": "stream",
     "text": [
      "Private Key: 205e199cd692120aeaf6cc13ad7ddba4a12d1a7516f3f1582b42d71ddf8886fd\n",
      "Public Key (Used as Address): bee1c451f08c053d0969bcf960400bf02af0a2f3d551cbf20c1b86b76816fcfe\n"
     ]
    }
   ],
   "source": [
    "# Use Public Key from Ed25519 as Blockchain Address\n",
    "import nacl.signing\n",
    "import nacl.encoding\n",
    "\n",
    "def generate_ed25519_key_pair():\n",
    "    \"\"\"Generates an Ed25519 private-public key pair.\"\"\"\n",
    "    private_key = nacl.signing.SigningKey.generate()\n",
    "    public_key = private_key.verify_key\n",
    "\n",
    "    # Return hex-encoded keys\n",
    "    return (private_key.encode(encoder=nacl.encoding.HexEncoder).decode(),\n",
    "            public_key.encode(encoder=nacl.encoding.HexEncoder).decode())\n",
    "\n",
    "# Generate Key Pair\n",
    "private_key, public_key = generate_ed25519_key_pair()\n",
    "\n",
    "# Use the public key as the blockchain address\n",
    "print(\"Private Key:\", private_key)\n",
    "print(\"Public Key (Used as Address):\", public_key)\n"
   ]
  },
  {
   "cell_type": "code",
   "execution_count": null,
   "metadata": {},
   "outputs": [
    {
     "name": "stdout",
     "output_type": "stream",
     "text": [
      "Blockchain Address (Base58): F81AEU35gp1yuWm9BbTUhQJc38DwHPav4wxCDoWMHHaQ\n"
     ]
    }
   ],
   "source": [
    "# Encode Ed25519 Public Key as Base58 Address\n",
    "import base58\n",
    "\n",
    "def encode_address(public_key_hex):\n",
    "    \"\"\"Encodes an Ed25519 public key into a shorter Base58 address.\"\"\"\n",
    "    public_key_bytes = bytes.fromhex(public_key_hex)\n",
    "    return base58.b58encode(public_key_bytes).decode()\n",
    "\n",
    "address = encode_address(public_key)\n",
    "print(\"Blockchain Address (Base58):\", address)"
   ]
  }
 ],
 "metadata": {
  "kernelspec": {
   "display_name": "Python 3",
   "language": "python",
   "name": "python3"
  },
  "language_info": {
   "codemirror_mode": {
    "name": "ipython",
    "version": 3
   },
   "file_extension": ".py",
   "mimetype": "text/x-python",
   "name": "python",
   "nbconvert_exporter": "python",
   "pygments_lexer": "ipython3",
   "version": "3.13.2"
  }
 },
 "nbformat": 4,
 "nbformat_minor": 2
}
