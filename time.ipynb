{
 "cells": [
  {
   "cell_type": "code",
   "execution_count": null,
   "metadata": {},
   "outputs": [],
   "source": [
    "class Time: # Wallet | Use Time as a module\n",
    "    \"\"\"\n",
    "    User\n",
    "    - Present(User)\n",
    "    - Timestamp(User, Present)\n",
    "    - Event(User, Timestamp, Present)\n",
    "    - Log(User, Event, Timestamp, Present)\n",
    "    - Message(User, Log, Event, Timestamp, Present)\n",
    "    - Alert(User, Message, Log, Event, Timestamp, Present)\n",
    "    - Reminder(User, Alert, Message, Log, Event, Timestamp, Present)\n",
    "    \"\"\"\n",
    "    # def __init__(self):\n",
    "    #     ...\n",
    "\n",
    "    # def present():\n",
    "    #     ...\n",
    "    # ..."
   ]
  },
  {
   "cell_type": "code",
   "execution_count": null,
   "metadata": {},
   "outputs": [],
   "source": [
    "def main():\n",
    "    # print(is_prime(int(input(\"What's x? \"))))\n",
    "    print(primes_up_to(int(input(\"What's the limit? \"))))\n",
    "\n",
    "\n",
    "# Check if a Number is Prime\n",
    "def is_prime(n):\n",
    "    \"\"\"Returns True if n is a prime number, otherwise False.\"\"\"\n",
    "    if n < 2:\n",
    "        return False\n",
    "    if n in (2, 3):\n",
    "        return True\n",
    "    if n % 2 == 0 or n % 3 == 0:\n",
    "        return False\n",
    "    \n",
    "    i = 5\n",
    "    while i * i <= n:\n",
    "        if n % i == 0 or n % (i + 2) == 0:\n",
    "            return False\n",
    "        i += 6\n",
    "    return True\n",
    "\n",
    "\n",
    "# Generate Prime Numbers in a Range\n",
    "def primes_up_to(limit):\n",
    "    \"\"\"Returns a list of prime numbers up to the given limit.\"\"\"\n",
    "    return [n for n in range(2, limit + 1) if is_prime(n)]\n",
    "\n",
    "if __name__ == \"__main__\":\n",
    "    main()"
   ]
  }
 ],
 "metadata": {
  "kernelspec": {
   "display_name": "Python 3",
   "language": "python",
   "name": "python3"
  },
  "language_info": {
   "codemirror_mode": {
    "name": "ipython",
    "version": 3
   },
   "file_extension": ".py",
   "mimetype": "text/x-python",
   "name": "python",
   "nbconvert_exporter": "python",
   "pygments_lexer": "ipython3",
   "version": "3.13.2"
  }
 },
 "nbformat": 4,
 "nbformat_minor": 2
}
