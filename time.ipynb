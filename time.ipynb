{
 "cells": [
  {
   "cell_type": "code",
   "execution_count": null,
   "metadata": {},
   "outputs": [],
   "source": [
    "class Time: # Wallet | Use Time as a Package\n",
    "    \"\"\"\n",
    "    User\n",
    "    - Present(User)\n",
    "    - Timestamp(User, Present)\n",
    "    - Event(User, Timestamp, Present)\n",
    "    - Log(User, Event, Timestamp, Present)\n",
    "    - Message(User, Log, Event, Timestamp, Present)\n",
    "    - Alert(User, Message, Log, Event, Timestamp, Present)\n",
    "    - Reminder(User, Alert, Message, Log, Event, Timestamp, Present)\n",
    "    \"\"\""
   ]
  },
  {
   "cell_type": "code",
   "execution_count": null,
   "metadata": {},
   "outputs": [],
   "source": [
    "def main():\n",
    "    # print(is_prime(int(input(\"What's x? \"))))\n",
    "    print(primes_up_to(int(input(\"What's the limit? \"))))\n",
    "\n",
    "\n",
    "# Check if a Number is Prime\n",
    "def is_prime(n):\n",
    "    \"\"\"Returns True if n is a prime number, otherwise False.\"\"\"\n",
    "    if n < 2:\n",
    "        return False\n",
    "    if n in (2, 3):\n",
    "        return True\n",
    "    if n % 2 == 0 or n % 3 == 0:\n",
    "        return False\n",
    "    \n",
    "    i = 5\n",
    "    while i * i <= n:\n",
    "        if n % i == 0 or n % (i + 2) == 0:\n",
    "            return False\n",
    "        i += 6\n",
    "    return True\n",
    "\n",
    "\n",
    "# Generate Prime Numbers in a Range\n",
    "def primes_up_to(limit):\n",
    "    \"\"\"Returns a list of prime numbers up to the given limit.\"\"\"\n",
    "    return [n for n in range(2, limit + 1) if is_prime(n)]\n",
    "\n",
    "if __name__ == \"__main__\":\n",
    "    main()"
   ]
  },
  {
   "cell_type": "code",
   "execution_count": 1,
   "metadata": {},
   "outputs": [
    {
     "name": "stdout",
     "output_type": "stream",
     "text": [
      "Private Key: 639a1e55326bc1ba33b02fa64276370d226af11fb506800f7552a259d27a6995\n",
      "Public Key: 0b77de51263ebe86480443a6e354d47cf674a1480ed548aac2c18838e440c745\n",
      "Blockchain Address: 1MowJX9VXFtxFVMWBez5UCKDGTEsvcVU7a\n"
     ]
    }
   ],
   "source": [
    "# Generate a Blockchain Address from an Ed25519 Public Key\n",
    "import nacl.signing\n",
    "import nacl.encoding\n",
    "import hashlib\n",
    "import base58\n",
    "\n",
    "def generate_ed25519_key_pair():\n",
    "    \"\"\"Generates an Ed25519 private-public key pair.\"\"\"\n",
    "    private_key = nacl.signing.SigningKey.generate()\n",
    "    public_key = private_key.verify_key\n",
    "\n",
    "    return (private_key.encode(encoder=nacl.encoding.HexEncoder).decode(),\n",
    "            public_key.encode(encoder=nacl.encoding.HexEncoder).decode())\n",
    "\n",
    "def generate_address(public_key_hex):\n",
    "    \"\"\"Creates a blockchain address directly from an Ed25519 public key.\"\"\"\n",
    "    public_key_bytes = bytes.fromhex(public_key_hex)\n",
    "\n",
    "    # Step 1: SHA-256 Hash\n",
    "    sha256_hash = hashlib.sha256(public_key_bytes).digest()\n",
    "\n",
    "    # Step 2: RIPEMD-160 Hash\n",
    "    ripemd160 = hashlib.new('ripemd160')\n",
    "    ripemd160.update(sha256_hash)\n",
    "    hashed_public_key = ripemd160.digest()\n",
    "\n",
    "    # Step 3: Add Version Byte (0x00 for standard blockchain address)\n",
    "    versioned_key = b'\\x00' + hashed_public_key\n",
    "\n",
    "    # Step 4: Compute Checksum (First 4 bytes of double SHA-256)\n",
    "    checksum = hashlib.sha256(hashlib.sha256(versioned_key).digest()).digest()[:4]\n",
    "\n",
    "    # Step 5: Encode in Base58\n",
    "    address = base58.b58encode(versioned_key + checksum).decode()\n",
    "\n",
    "    return address\n",
    "\n",
    "# Generate Ed25519 Key Pair\n",
    "private_key, public_key = generate_ed25519_key_pair()\n",
    "\n",
    "# Use the same public key to generate the address\n",
    "address = generate_address(public_key)\n",
    "\n",
    "print(\"Private Key:\", private_key)\n",
    "print(\"Public Key:\", public_key)\n",
    "print(\"Blockchain Address:\", address)\n"
   ]
  },
  {
   "cell_type": "code",
   "execution_count": 3,
   "metadata": {},
   "outputs": [
    {
     "name": "stdout",
     "output_type": "stream",
     "text": [
      "Private Key: 99a873f4bfa745de7626534c7c139e86896253237734df028702fcb8e91a4c62\n",
      "Public Key (Used as Address): be94ef22a7511171b8b27b6467960c3439ebf2a83bf20ddb6f6bf81c321e0339\n"
     ]
    }
   ],
   "source": [
    "# Use Public Key from Ed25519 as Blockchain Address\n",
    "import nacl.signing # type: ignore\n",
    "import nacl.encoding # type: ignore\n",
    "\n",
    "def generate_ed25519_key_pair():\n",
    "    \"\"\"Generates an Ed25519 private-public key pair.\"\"\"\n",
    "    private_key = nacl.signing.SigningKey.generate()\n",
    "    public_key = private_key.verify_key\n",
    "\n",
    "    # Return hex-encoded keys\n",
    "    return (private_key.encode(encoder=nacl.encoding.HexEncoder).decode(),\n",
    "            public_key.encode(encoder=nacl.encoding.HexEncoder).decode())\n",
    "\n",
    "# Generate Key Pair\n",
    "private_key, public_key = generate_ed25519_key_pair()\n",
    "\n",
    "# Use the public key as the blockchain address\n",
    "print(\"Private Key:\", private_key)\n",
    "print(\"Public Key (Used as Address):\", public_key)\n"
   ]
  },
  {
   "cell_type": "code",
   "execution_count": 2,
   "metadata": {},
   "outputs": [
    {
     "name": "stdout",
     "output_type": "stream",
     "text": [
      "Blockchain Address (Base58): 5toMXHVPUzGok9RYqRkxw9GFsSmQ37YipSjruyfw7JYu\n"
     ]
    }
   ],
   "source": [
    "# Encode Ed25519 Public Key as Base58 Address\n",
    "import base58\n",
    "\n",
    "def encode_address(public_key_hex):\n",
    "    \"\"\"Encodes an Ed25519 public key into a shorter Base58 address.\"\"\"\n",
    "    public_key_bytes = bytes.fromhex(public_key_hex)\n",
    "    return base58.b58encode(public_key_bytes).decode()\n",
    "\n",
    "address = encode_address(public_key)\n",
    "print(\"Blockchain Address (Base58):\", address)"
   ]
  }
 ],
 "metadata": {
  "kernelspec": {
   "display_name": "Python 3",
   "language": "python",
   "name": "python3"
  },
  "language_info": {
   "codemirror_mode": {
    "name": "ipython",
    "version": 3
   },
   "file_extension": ".py",
   "mimetype": "text/x-python",
   "name": "python",
   "nbconvert_exporter": "python",
   "pygments_lexer": "ipython3",
   "version": "3.13.2"
  }
 },
 "nbformat": 4,
 "nbformat_minor": 2
}
